{
 "cells": [
  {
   "cell_type": "code",
   "execution_count": 19,
   "id": "94739a57",
   "metadata": {},
   "outputs": [],
   "source": [
    "import numpy as np\n",
    "import pandas as pd\n",
    "import matplotlib.pyplot as plt\n",
    "import seaborn as sns"
   ]
  },
  {
   "cell_type": "code",
   "execution_count": 20,
   "id": "e323b366",
   "metadata": {},
   "outputs": [
    {
     "data": {
      "text/html": [
       "<div>\n",
       "<style scoped>\n",
       "    .dataframe tbody tr th:only-of-type {\n",
       "        vertical-align: middle;\n",
       "    }\n",
       "\n",
       "    .dataframe tbody tr th {\n",
       "        vertical-align: top;\n",
       "    }\n",
       "\n",
       "    .dataframe thead th {\n",
       "        text-align: right;\n",
       "    }\n",
       "</style>\n",
       "<table border=\"1\" class=\"dataframe\">\n",
       "  <thead>\n",
       "    <tr style=\"text-align: right;\">\n",
       "      <th></th>\n",
       "      <th>type</th>\n",
       "      <th>text</th>\n",
       "    </tr>\n",
       "  </thead>\n",
       "  <tbody>\n",
       "    <tr>\n",
       "      <th>0</th>\n",
       "      <td>ham</td>\n",
       "      <td>Go until jurong point, crazy.. Available only ...</td>\n",
       "    </tr>\n",
       "    <tr>\n",
       "      <th>1</th>\n",
       "      <td>ham</td>\n",
       "      <td>Ok lar... Joking wif u oni...</td>\n",
       "    </tr>\n",
       "    <tr>\n",
       "      <th>2</th>\n",
       "      <td>spam</td>\n",
       "      <td>Free entry in 2 a wkly comp to win FA Cup fina...</td>\n",
       "    </tr>\n",
       "    <tr>\n",
       "      <th>3</th>\n",
       "      <td>ham</td>\n",
       "      <td>U dun say so early hor... U c already then say...</td>\n",
       "    </tr>\n",
       "    <tr>\n",
       "      <th>4</th>\n",
       "      <td>ham</td>\n",
       "      <td>Nah I don't think he goes to usf, he lives aro...</td>\n",
       "    </tr>\n",
       "  </tbody>\n",
       "</table>\n",
       "</div>"
      ],
      "text/plain": [
       "   type                                               text\n",
       "0   ham  Go until jurong point, crazy.. Available only ...\n",
       "1   ham                      Ok lar... Joking wif u oni...\n",
       "2  spam  Free entry in 2 a wkly comp to win FA Cup fina...\n",
       "3   ham  U dun say so early hor... U c already then say...\n",
       "4   ham  Nah I don't think he goes to usf, he lives aro..."
      ]
     },
     "execution_count": 20,
     "metadata": {},
     "output_type": "execute_result"
    }
   ],
   "source": [
    "df = pd.read_csv(\"spam.csv\", encoding=\"latin1\")\n",
    "df = df.rename(columns={'v1': 'type', 'v2': 'text'})\n",
    "df = df[[\"type\", \"text\"]]\n",
    "df.head()"
   ]
  },
  {
   "cell_type": "code",
   "execution_count": 21,
   "id": "44f6fc99",
   "metadata": {},
   "outputs": [
    {
     "name": "stdout",
     "output_type": "stream",
     "text": [
      "type    0\n",
      "text    0\n",
      "dtype: int64\n"
     ]
    }
   ],
   "source": [
    "print(df.isnull().sum())\n",
    "df = df.drop_duplicates()"
   ]
  },
  {
   "cell_type": "code",
   "execution_count": 22,
   "id": "81130239",
   "metadata": {},
   "outputs": [
    {
     "data": {
      "text/plain": [
       "type\n",
       "ham     4516\n",
       "spam     653\n",
       "Name: count, dtype: int64"
      ]
     },
     "execution_count": 22,
     "metadata": {},
     "output_type": "execute_result"
    }
   ],
   "source": [
    "df['type'].value_counts()"
   ]
  },
  {
   "cell_type": "code",
   "execution_count": 23,
   "id": "24d784db",
   "metadata": {},
   "outputs": [
    {
     "data": {
      "text/html": [
       "<div>\n",
       "<style scoped>\n",
       "    .dataframe tbody tr th:only-of-type {\n",
       "        vertical-align: middle;\n",
       "    }\n",
       "\n",
       "    .dataframe tbody tr th {\n",
       "        vertical-align: top;\n",
       "    }\n",
       "\n",
       "    .dataframe thead th {\n",
       "        text-align: right;\n",
       "    }\n",
       "</style>\n",
       "<table border=\"1\" class=\"dataframe\">\n",
       "  <thead>\n",
       "    <tr style=\"text-align: right;\">\n",
       "      <th></th>\n",
       "      <th>type</th>\n",
       "      <th>text</th>\n",
       "    </tr>\n",
       "  </thead>\n",
       "  <tbody>\n",
       "    <tr>\n",
       "      <th>0</th>\n",
       "      <td>0</td>\n",
       "      <td>Go until jurong point, crazy.. Available only ...</td>\n",
       "    </tr>\n",
       "    <tr>\n",
       "      <th>1</th>\n",
       "      <td>0</td>\n",
       "      <td>Ok lar... Joking wif u oni...</td>\n",
       "    </tr>\n",
       "    <tr>\n",
       "      <th>2</th>\n",
       "      <td>1</td>\n",
       "      <td>Free entry in 2 a wkly comp to win FA Cup fina...</td>\n",
       "    </tr>\n",
       "    <tr>\n",
       "      <th>3</th>\n",
       "      <td>0</td>\n",
       "      <td>U dun say so early hor... U c already then say...</td>\n",
       "    </tr>\n",
       "    <tr>\n",
       "      <th>4</th>\n",
       "      <td>0</td>\n",
       "      <td>Nah I don't think he goes to usf, he lives aro...</td>\n",
       "    </tr>\n",
       "  </tbody>\n",
       "</table>\n",
       "</div>"
      ],
      "text/plain": [
       "   type                                               text\n",
       "0     0  Go until jurong point, crazy.. Available only ...\n",
       "1     0                      Ok lar... Joking wif u oni...\n",
       "2     1  Free entry in 2 a wkly comp to win FA Cup fina...\n",
       "3     0  U dun say so early hor... U c already then say...\n",
       "4     0  Nah I don't think he goes to usf, he lives aro..."
      ]
     },
     "execution_count": 23,
     "metadata": {},
     "output_type": "execute_result"
    }
   ],
   "source": [
    "df['type'] = df['type'].map({\"ham\": 0, \"spam\": 1})\n",
    "df.head()"
   ]
  },
  {
   "cell_type": "code",
   "execution_count": 24,
   "id": "9eda4e40",
   "metadata": {},
   "outputs": [
    {
     "data": {
      "text/plain": [
       "0    go until jurong point, crazy.. available only ...\n",
       "1                        ok lar... joking wif u oni...\n",
       "2    free entry in 2 a wkly comp to win fa cup fina...\n",
       "3    u dun say so early hor... u c already then say...\n",
       "4    nah i don't think he goes to usf, he lives aro...\n",
       "Name: text, dtype: object"
      ]
     },
     "execution_count": 24,
     "metadata": {},
     "output_type": "execute_result"
    }
   ],
   "source": [
    "# string lowercasing\n",
    "df['text'] = df['text'].apply(lambda x: x.lower())\n",
    "df['text'].head()"
   ]
  },
  {
   "cell_type": "code",
   "execution_count": 25,
   "id": "26fd5faa",
   "metadata": {},
   "outputs": [],
   "source": [
    "import string\n",
    "# remove punctuation\n",
    "def remove_punctuation(text):\n",
    "    text = text.translate(str.maketrans(\"\", \"\", string.punctuation))\n",
    "    return text\n",
    "\n",
    "df['text'] = df['text'].apply(remove_punctuation)"
   ]
  },
  {
   "cell_type": "code",
   "execution_count": 26,
   "id": "fec6c828",
   "metadata": {},
   "outputs": [],
   "source": [
    "def remove_numbers(text):\n",
    "    new = \"\"\n",
    "    for char in text:\n",
    "        if not char.isdigit():\n",
    "            new += char\n",
    "    return new\n",
    "    \n",
    "df['text'] = df['text'].apply(remove_numbers)"
   ]
  },
  {
   "cell_type": "code",
   "execution_count": 27,
   "id": "0ee37205",
   "metadata": {},
   "outputs": [
    {
     "name": "stdout",
     "output_type": "stream",
     "text": [
      "0    go until jurong point crazy available only in ...\n",
      "1                              ok lar joking wif u oni\n",
      "2    free entry in  a wkly comp to win fa cup final...\n",
      "3          u dun say so early hor u c already then say\n",
      "4    nah i dont think he goes to usf he lives aroun...\n",
      "5    freemsg hey there darling its been  weeks now ...\n",
      "6    even my brother is not like to speak with me t...\n",
      "7    as per your request melle melle oru minnaminun...\n",
      "8    winner as a valued network customer you have b...\n",
      "9    had your mobile  months or more u r entitled t...\n",
      "Name: text, dtype: object\n"
     ]
    }
   ],
   "source": [
    "import re\n",
    "\n",
    "def clean_specials(text):\n",
    "    text = re.sub(r\"http\\S+|www\\S+\", \" \", text)   # remove URLs\n",
    "    text = re.sub(r\"\\S+@\\S+\", \" \", text)          # remove emails\n",
    "    return text\n",
    "\n",
    "df['text'] = df['text'].apply(clean_specials)\n",
    "print(df['text'].head(10))"
   ]
  },
  {
   "cell_type": "code",
   "execution_count": 28,
   "id": "4db93788",
   "metadata": {},
   "outputs": [
    {
     "name": "stdout",
     "output_type": "stream",
     "text": [
      "0    go until jurong point crazy available only in ...\n",
      "1                              ok lar joking wif u oni\n",
      "2    free entry in a wkly comp to win fa cup final ...\n",
      "3          u dun say so early hor u c already then say\n",
      "4    nah i dont think he goes to usf he lives aroun...\n",
      "5    freemsg hey there darling its been weeks now a...\n",
      "6    even my brother is not like to speak with me t...\n",
      "7    as per your request melle melle oru minnaminun...\n",
      "8    winner as a valued network customer you have b...\n",
      "9    had your mobile months or more u r entitled to...\n",
      "Name: text, dtype: object\n"
     ]
    }
   ],
   "source": [
    "# remove extra whitespace\n",
    "df['text'] = df['text'].str.replace(r'\\s+', ' ', regex=True).str.strip()\n",
    "print(df['text'].head(10))"
   ]
  },
  {
   "cell_type": "code",
   "execution_count": 29,
   "id": "90390d2d",
   "metadata": {},
   "outputs": [],
   "source": [
    "import nltk\n",
    "from nltk.corpus import stopwords\n",
    "stop_words = set(stopwords.words('english'))\n",
    "def remove_wrds(text):\n",
    "    words = text.split()\n",
    "    new = \"\"\n",
    "    for i in words:\n",
    "        if i not in stop_words:\n",
    "            new += i + \" \"\n",
    "    return new\n",
    "\n",
    "df['text'] = df['text'].apply(remove_wrds)"
   ]
  },
  {
   "cell_type": "code",
   "execution_count": 30,
   "id": "04bb4609",
   "metadata": {},
   "outputs": [],
   "source": [
    "from sklearn.model_selection import train_test_split\n",
    "from sklearn.feature_extraction.text import CountVectorizer, TfidfVectorizer\n",
    "from sklearn.metrics import accuracy_score\n",
    "from sklearn.model_selection import cross_val_score"
   ]
  },
  {
   "cell_type": "code",
   "execution_count": 31,
   "id": "b4f25f04",
   "metadata": {},
   "outputs": [],
   "source": [
    "from sklearn.model_selection import train_test_split\n",
    "X_train, X_test, y_train, y_test = train_test_split(df['text'], df['type'], test_size=0.2, random_state=42)"
   ]
  },
  {
   "cell_type": "code",
   "execution_count": 32,
   "id": "b0e82984",
   "metadata": {},
   "outputs": [],
   "source": [
    "from sklearn.feature_extraction.text import CountVectorizer, TfidfVectorizer\n",
    "\n",
    "bow_vectorizer = CountVectorizer()\n",
    "x_train_bow = bow_vectorizer.fit_transform(X_train).toarray()\n",
    "x_test_bow = bow_vectorizer.transform(X_test).toarray()\n",
    "\n",
    "tfidf_vectorizer = TfidfVectorizer()\n",
    "x_train_tfidf = tfidf_vectorizer.fit_transform(X_train).toarray()\n",
    "x_test_tfidf = tfidf_vectorizer.transform(X_test).toarray()"
   ]
  },
  {
   "cell_type": "code",
   "execution_count": 33,
   "id": "142c8b64",
   "metadata": {},
   "outputs": [
    {
     "name": "stdout",
     "output_type": "stream",
     "text": [
      "\n",
      "Logistic Regression Accuracy: 0.9787234042553191\n",
      "Logistic Regression CV Scores: [0.97218863 0.97339782 0.96977025 0.98065296 0.97460701]\n",
      "Mean CV Score: 0.9741233373639661\n",
      "\n",
      "SVM Accuracy: 0.9787234042553191\n",
      "SVM CV Scores: [0.96977025 0.9758162  0.97702539 0.98065296 0.97339782]\n",
      "Mean CV Score: 0.9753325272067714\n",
      "\n",
      "Decision Tree Accuracy: 0.9477756286266924\n",
      "Decision Tree CV Scores: [0.96614268 0.96130593 0.96493349 0.95646917 0.95405079]\n",
      "Mean CV Score: 0.9605804111245465\n"
     ]
    }
   ],
   "source": [
    "from sklearn.linear_model import LogisticRegression\n",
    "from sklearn.svm import LinearSVC\n",
    "from sklearn.tree import DecisionTreeClassifier\n",
    "\n",
    "# Logistic Regression\n",
    "lr = LogisticRegression()\n",
    "lr.fit(x_train_bow, y_train)\n",
    "lr_pred = lr.predict(x_test_bow)\n",
    "print(\"\\nLogistic Regression Accuracy:\", accuracy_score(y_test, lr_pred))\n",
    "scores_lr = cross_val_score(lr, x_train_bow, y_train, cv=5, scoring='accuracy')\n",
    "print(\"Logistic Regression CV Scores:\", scores_lr)\n",
    "print(\"Mean CV Score:\", scores_lr.mean())\n",
    "\n",
    "# SVM\n",
    "svm = LinearSVC()\n",
    "svm.fit(x_train_bow, y_train)\n",
    "svm_pred = svm.predict(x_test_bow)\n",
    "print(\"\\nSVM Accuracy:\", accuracy_score(y_test, svm_pred))\n",
    "scores_svm = cross_val_score(LinearSVC(), x_train_bow, y_train, cv=5, scoring='accuracy')\n",
    "print(\"SVM CV Scores:\", scores_svm)\n",
    "print(\"Mean CV Score:\", scores_svm.mean())\n",
    "\n",
    "# decision tree\n",
    "dt = DecisionTreeClassifier(random_state=42)\n",
    "dt.fit(x_train_bow, y_train)\n",
    "dt_pred = dt.predict(x_test_bow)\n",
    "print(\"\\nDecision Tree Accuracy:\", accuracy_score(y_test, dt_pred))\n",
    "scores_dt = cross_val_score(dt, x_train_bow, y_train, cv=5, scoring='accuracy')\n",
    "print(\"Decision Tree CV Scores:\", scores_dt)\n",
    "print(\"Mean CV Score:\", scores_dt.mean())\n"
   ]
  },
  {
   "cell_type": "code",
   "execution_count": 34,
   "id": "bfcce88f",
   "metadata": {},
   "outputs": [],
   "source": [
    "tfidf_vectorizer = TfidfVectorizer()\n",
    "X_train_tfidf = tfidf_vectorizer.fit_transform(X_train)\n",
    "X_test_tfidf = tfidf_vectorizer.transform(X_test)"
   ]
  },
  {
   "cell_type": "code",
   "execution_count": null,
   "id": "4fc248dd",
   "metadata": {},
   "outputs": [
    {
     "name": "stdout",
     "output_type": "stream",
     "text": [
      "0.9545454545454546\n"
     ]
    }
   ],
   "source": [
    "from sklearn.linear_model import LogisticRegression\n",
    "     \n",
    "logistic_model = LogisticRegression()\n",
    "\n",
    "logistic_model.fit(X_train_tfidf,y_train)\n",
    "log_pred = logistic_model.predict(X_test_tfidf)\n",
    "\n",
    "print(accuracy_score(y_test,log_pred ))"
   ]
  }
 ],
 "metadata": {
  "kernelspec": {
   "display_name": "base",
   "language": "python",
   "name": "python3"
  },
  "language_info": {
   "codemirror_mode": {
    "name": "ipython",
    "version": 3
   },
   "file_extension": ".py",
   "mimetype": "text/x-python",
   "name": "python",
   "nbconvert_exporter": "python",
   "pygments_lexer": "ipython3",
   "version": "3.13.5"
  }
 },
 "nbformat": 4,
 "nbformat_minor": 5
}
